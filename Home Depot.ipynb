{
 "cells": [
  {
   "cell_type": "markdown",
   "metadata": {},
   "source": [
    "## Needs Work\n",
    "\n",
    "Home Depot.com fronts with Akamai and they refuse bot traffic with an HTTP response like (yes, complete with the dangling `<P>`)\n",
    "```\n",
    "<HTML><HEAD>\n",
    "<TITLE>Access Denied</TITLE>\n",
    "</HEAD><BODY>\n",
    "<H1>Access Denied</H1>\n",
    "\n",
    "You don't have permission to access \"http://www.homedepot.com/mcc-cart/v2/info/storefulfillment?\" on this server.<P>\n",
    "Reference #...\n",
    "</BODY>\n",
    "</HTML>\n",
    "```\n",
    "\n",
    "In this past this did not use to be the case. A bare curl request would always return. Setting a real User Agent string doesn't bypass this, you need to send back real cookies.\n",
    "\n",
    "Therefore this code no longer functions as-is."
   ]
  },
  {
   "cell_type": "code",
   "execution_count": 2,
   "metadata": {},
   "outputs": [],
   "source": [
    "import json, urllib\n",
    "from twilio.rest import Client"
   ]
  },
  {
   "cell_type": "code",
   "execution_count": 3,
   "metadata": {},
   "outputs": [],
   "source": [
    "# Get the Item ID from the end of the product page URL\n",
    "# For example: https://www.homedepot.com/p/Forum-Novelties-Clown-Around-Town-Child-Costume-F62198-M/204447677\n",
    "item_id = '204447677'\n",
    "\n",
    "# Your Account Sid and Auth Token from twilio.com/console\n",
    "account_sid = 'AC...'\n",
    "auth_token = '...'\n",
    "twilio_from_number = '+1585475....'\n",
    "sms_destination = '+1585475....'\n",
    "\n",
    "client = Client(account_sid, auth_token)"
   ]
  },
  {
   "cell_type": "code",
   "execution_count": 4,
   "metadata": {},
   "outputs": [],
   "source": [
    "def getQtys(store='1861'):\n",
    "    url = 'https://www.homedepot.com/mcc-cart/v2/info/storefulfillment?itemId=' + item_id + '&keyword=' + store\n",
    "\n",
    "    raw_resp = urllib.request.urlopen(url).read()\n",
    "    resp = json.loads(raw_resp.decode())\n",
    "\n",
    "    qty_now = resp['storeFulfillment']['storeFulfillmentDetails']['primaryStore']['fulfillmentOptions']['buyOnlinePickupInStore']['inventory']['onHandQuantity']\n",
    "    qty_maybe = resp['storeFulfillment']['storeFulfillmentDetails']['primaryStore']['fulfillmentOptions']['buyOnlinePickupInStore']['inventory']['expectedQuantityAvailable']\n",
    "    \n",
    "    return [qty_now, qty_maybe]"
   ]
  },
  {
   "cell_type": "code",
   "execution_count": 5,
   "metadata": {},
   "outputs": [],
   "source": [
    "def sendSMS(msg):\n",
    "    message = client.messages \\\n",
    "                .create(\n",
    "                     body=msg,\n",
    "                     from_=twilio_from_number,\n",
    "                     to=sms_destination\n",
    "                 )"
   ]
  },
  {
   "cell_type": "code",
   "execution_count": 8,
   "metadata": {},
   "outputs": [],
   "source": [
    "# The store number is shown when you select your local store\n",
    "# For example: San Jose (ge) #1861, or East Palo Alto #6603\n",
    "\n",
    "# Palo Alto store\n",
    "if getQtys('6603') != [0,0]:\n",
    "    sendSMS('Clowns in stock @ EPA')\n",
    "\n",
    "# San Jose default store\n",
    "if getQtys() != [0,0]:\n",
    "    sendSMS('Clowns in stock @ San Jose')"
   ]
  },
  {
   "cell_type": "markdown",
   "metadata": {},
   "source": [
    "## For running in GCP Cloud Function/Lambda\n",
    "\n",
    "Note that Akamai denies GCP IPs with prejudice :) so this won't work without an Akamai bypass.\n",
    "\n",
    "Create an HTTP triggered Cloud Function with source:\n",
    "```python\n",
    "import json, os, urllib\n",
    "from twilio.rest import Client\n",
    "\n",
    "item_id = '204447677'\n",
    "\n",
    "account_sid = os.environ['TW_ACC']\n",
    "auth_token = os.environ['TW_AUTH']\n",
    "twilio_from_number = os.environ['FROM']\n",
    "sms_destination = os.environ['TO']\n",
    "\n",
    "client = Client(account_sid, auth_token)\n",
    "\n",
    "def getQtys(store='1861'):\n",
    "    url = 'https://www.homedepot.com/mcc-cart/v2/info/storefulfillment?itemId=' + item_id + '&keyword=' + store\n",
    "\n",
    "    raw_resp = urllib.request.urlopen(url).read()\n",
    "    resp = json.loads(raw_resp.decode())\n",
    "\n",
    "    qty_now = resp['storeFulfillment']['storeFulfillmentDetails']['primaryStore']['fulfillmentOptions']['buyOnlinePickupInStore']['inventory']['onHandQuantity']\n",
    "    qty_maybe = resp['storeFulfillment']['storeFulfillmentDetails']['primaryStore']['fulfillmentOptions']['buyOnlinePickupInStore']['inventory']['expectedQuantityAvailable']\n",
    "    \n",
    "    return [qty_now, qty_maybe]\n",
    "\n",
    "def sendSMS(msg):\n",
    "    message = client.messages \\\n",
    "                .create(\n",
    "                     body=msg,\n",
    "                     from_=twilio_from_number,\n",
    "                     to=sms_destination\n",
    "                 )\n",
    "\n",
    "def checkStock(request):\n",
    "    msg = ''\n",
    "    \n",
    "    if getQtys('6603') != [0,0]:\n",
    "        sendSMS('Clowns in stock @ EPA')\n",
    "        msg = 'In stock'\n",
    "\n",
    "    if getQtys() != [0,0]:\n",
    "        sendSMS('Clowns in stock @ San Jose')\n",
    "        msg = 'In stock'\n",
    "        \n",
    "    return msg\n",
    "```\n",
    "\n",
    "And requirements.txt:\n",
    "```\n",
    "# Function dependencies, for example:\n",
    "# package>=version\n",
    "twilio==6.25.2\n",
    "urllib3==1.24.1\n",
    "```\n",
    "\n",
    "Lang: Python 3.7\n",
    "Memory: 128 MB\n",
    "Function: checkStock\n",
    "Max invocations: 1\n",
    "\n",
    "Set env vars TW_ACC, TW_AUTH, FROM, and TO.\n",
    "\n",
    "Create a Cloud Scheduler, with frequency `0 8-22 * * 1-5` (hourly every weekday between 8a-10p) making an HTTP GET to the Cloud Function trigger. Or use https://crontab.guru to create other timings."
   ]
  }
 ],
 "metadata": {
  "kernelspec": {
   "display_name": "Python 3",
   "language": "python",
   "name": "python3"
  },
  "language_info": {
   "codemirror_mode": {
    "name": "ipython",
    "version": 3
   },
   "file_extension": ".py",
   "mimetype": "text/x-python",
   "name": "python",
   "nbconvert_exporter": "python",
   "pygments_lexer": "ipython3",
   "version": "3.7.4"
  }
 },
 "nbformat": 4,
 "nbformat_minor": 2
}
